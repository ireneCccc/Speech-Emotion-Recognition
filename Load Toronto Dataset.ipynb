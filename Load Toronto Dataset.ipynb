{
 "cells": [
  {
   "cell_type": "code",
   "execution_count": 36,
   "metadata": {},
   "outputs": [
    {
     "name": "stdout",
     "output_type": "stream",
     "text": [
      "24488bite\n",
      "24488beg\n",
      "24488bean\n",
      "24488bath\n",
      "24488base\n",
      "24488bar\n",
      "24488back\n"
     ]
    }
   ],
   "source": [
    "# 01 = neutral, 02 = surprised, 03 = happy, 04 = sad, 05 = angry, 06 = fear, 07 = disgust\n",
    "from urllib.request import urlopen\n",
    "from urllib.error import URLError\n",
    "\n",
    "url_emotion_list = ['neutral', 'fear', 'angry','ps', 'fear', 'happy', 'disgust','ps', 'neutral','sad', 'disgust', 'angry', 'sad', 'happy']\n",
    "file_save_emotion = ['1', '6', '5', '2', '6', '3', '7', '2', '1', '4', '7', '5', '4', '3']\n",
    "url_letter_list = ['youth', 'young', 'yes', 'yearn', 'witch', 'wire', 'wife', 'white', 'whip', 'which', 'when', 'wheat', 'week', 'wash', 'walk', 'wag', 'vote', 'void', 'voice', 'vine', 'turn', 'tough', 'tool', 'ton', 'tire', 'tip', 'time', 'thumb', 'thought', 'third', 'thin', 'tell', 'team', 'tape', 'talk', 'take', 'sure', 'such', 'sub', 'south', 'sour', 'soup', 'soap', 'size', 'shout', 'should', 'shirt', 'sheep', 'shawl', 'shall', 'shack', 'sell', 'seize', 'search', 'sail', 'said', 'rush', 'rough', 'rot', 'rose', 'room', 'road', 'ripe', 'ring', 'red', 'read', 'reach', 'rat', 'raise', 'rain', 'raid', 'rag', 'puff', 'pool', 'pole', 'pike', 'pick', 'phone', 'perch', 'peg', 'pearl', 'pass', 'pain', 'page', 'pad', 'numb', 'note', 'nice', 'neat', 'near', 'name', 'nag', 'mouse', 'mop', 'moon', 'mood', 'mode', 'mob', 'mill', 'met', 'mess', 'merge', 'match', 'make', 'luck', 'love', 'lot', 'lose', 'lore', 'long', 'loaf', 'live', 'limb', 'life', 'lid', 'lease', 'learn', 'lean', 'laud', 'late', 'knock', 'kite', 'king', 'kill', 'kick', 'keg', 'keep', 'keen', 'juice', 'jug', 'judge', 'join', 'jar', 'jail', 'hush', 'hurl', 'home', 'hole', 'hit', 'hire', 'haze', 'have', 'hate', 'hash', 'hall', 'half', 'gun', 'goose', 'good', 'goal', 'gin', 'get', 'germ', 'gaze', 'gas', 'gap', 'food', 'five', 'fit', 'fat', 'far', 'fall', 'fail', 'door', 'doll', 'dog', 'dodge', 'ditch', 'dip', 'dime', 'deep', 'death', 'dead', 'date', 'dab', 'cool', 'choice', 'chief', 'cheek', 'check', 'chat', 'chalk', 'chair', 'chain', 'cause', 'came', 'calm', 'cab', 'burn', 'bought', 'book', 'bone', 'boat', 'bite', 'beg', 'bean', 'bath', 'base', 'bar', 'back']\n",
    "url_preletter_first = ['24488', '24489', '24490', '24491', '24492', '24493', '24494', '24495', '24496', '24497', '24498', '24499', '24500','24501']\n",
    "url_youth_old = ['OAF', 'YAF', 'YAF', 'OAF', 'OAF','YAF', 'OAF', 'YAF', 'YAF', 'OAF', 'YAF', 'OAF', 'YAF', 'OAF']\n",
    "\n",
    "# url = base_url + url_preletter_first + url_preletter_second + 'OAF' or 'YAF' + url_letter_list + '_' + url_emotion_list\n",
    "#get url for each audio file in the website\n",
    "def getLegalUrl(i, k): # k for emotion\n",
    "    base_url='https://tspace.library.utoronto.ca/bitstream/1807/'\n",
    "    try:\n",
    "        url=base_url+url_preletter_first[k]+'/'+str(i)+'/'+url_youth_old[k]+'_'+url_letter_list[i-1]+'_'+url_emotion_list[k]+'.wav'\n",
    "        f=urlopen(url)\n",
    "        return url\n",
    "    except URLError:\n",
    "        return \"\"\n",
    "    \n",
    "#download the file and save into different filepath\n",
    "def download(url,i,k):\n",
    "    f=urlopen(url)\n",
    "    data=f.read()\n",
    "    file_save_path = './'+file_save_emotion[k]+'/'+url_letter_list[i-1]+ url_youth_old[k]+'.wav'\n",
    "    with open(file_save_path,'wb') as file:\n",
    "        file.write(data) \n",
    "\n",
    "if __name__ == '__main__':\n",
    "    for i in range(1,201):\n",
    "        for k in range(14):\n",
    "            url=getLegalUrl(i,k)\n",
    "            if url == \"\":\n",
    "                print(url_preletter_first[k]+url_letter_list[i-1])\n",
    "            else:\n",
    "                download(url,i,k)"
   ]
  },
  {
   "cell_type": "code",
   "execution_count": 24,
   "metadata": {},
   "outputs": [
    {
     "name": "stdout",
     "output_type": "stream",
     "text": [
      "https://tspace.library.utoronto.ca/bitstream/1807/24488/1/OAF_youth_neutral.wav\n"
     ]
    }
   ],
   "source": [
    "import urllib.request as urllib3\n",
    "\n",
    "url_emotion_list = ['neutral', 'fear', 'angry','surprise', 'fear', 'happy', 'disgust','surprise', 'neutral','sad', 'disgust', 'angry', 'sad', 'happy']\n",
    "url_letter_list = ['youth', 'young', 'yes', 'yearn', 'witch', 'wire', 'wife', 'white', 'whip', 'which', 'when', 'wheat', 'week', 'wash', 'walk', 'wag', 'vote', 'void', 'voice', 'vine', 'turn', 'tough', 'tool', 'ton', 'tire', 'tip', 'time', 'thumb', 'thought', 'third', 'thin', 'tell', 'team', 'tape', 'talk', 'take', 'sure', 'such', 'sub', 'south', 'sour', 'soup', 'soap', 'size', 'shout', 'should', 'shirt', 'sheep', 'shawl', 'shall', 'shack', 'sell', 'seize', 'search', 'sail', 'said', 'rush', 'rough', 'rot', 'rose', 'room', 'road', 'ripe', 'ring', 'red', 'read', 'reach', 'rat', 'raise', 'rain', 'raid', 'rag', 'puff', 'pool', 'pole', 'pike', 'pick', 'phone', 'perch', 'peg', 'pearl', 'pass', 'pain', 'page', 'pad', 'numb', 'note', 'nice', 'neat', 'near', 'name', 'nag', 'mouse', 'mop', 'moon', 'mood', 'mode', 'mob', 'mill', 'met', 'mess', 'merge', 'match', 'make', 'luck', 'love', 'lot', 'lose', 'lore', 'long', 'loaf', 'live', 'limb', 'life', 'lid', 'lease', 'learn', 'lean', 'laud', 'late', 'knock', 'kite', 'king', 'kill', 'kick', 'keg', 'keep', 'keen', 'juice', 'jug', 'judge', 'join', 'jar', 'jail', 'hush', 'hurl', 'home', 'hole', 'hit', 'hire', 'haze', 'have', 'hate', 'hash', 'hall', 'half', 'gun', 'goose', 'good', 'goal', 'gin', 'get', 'germ', 'gaze', 'gas', 'gap', 'food', 'five', 'fit', 'fat', 'far', 'fall', 'fail', 'door', 'doll', 'dog', 'dodge', 'ditch', 'dip', 'dime', 'deep', 'death', 'dead', 'date', 'dab', 'cool', 'choice', 'chief', 'cheek', 'check', 'chat', 'chalk', 'chair', 'chain', 'cause', 'came', 'calm', 'cab', 'burn', 'bought', 'book', 'bone', 'boat', 'bite', 'beg', 'bean', 'bath', 'base', 'bar', 'back']\n",
    "url_preletter_first = ['24488', '24489', '24490', '24491', '24492', '24493', '24494', '24495', '24496', '24497', '24498', '24499', '24500','24501']\n",
    "url_youth_old = ['OAF', 'YAF', 'YAF', 'OAF', 'OAF','YAF', 'OAF', 'YAF', 'YAF', 'OAF', 'YAF', 'OAF', 'YAF', 'OAF']\n",
    "\n",
    "base_url='https://tspace.library.utoronto.ca/bitstream/1807/'\n",
    "url=base_url+url_preletter_first[0]+'/'+str(1)+'/'+url_youth_old[0]+'_'+url_letter_list[0]+'_'+url_emotion_list[0]+'.wav'\n",
    "print(url)\n",
    "f=urllib3.urlopen(url)\n",
    "data=f.read()\n",
    "\n",
    "file_save_path = './'+url_emotion_list[1]+'/'+str(1)+'.wav'\n",
    "with open(file_save_path,\"wb\") as file:\n",
    "    file.write(data)"
   ]
  },
  {
   "cell_type": "code",
   "execution_count": null,
   "metadata": {
    "collapsed": true
   },
   "outputs": [],
   "source": []
  }
 ],
 "metadata": {
  "kernelspec": {
   "display_name": "Python 3",
   "language": "python",
   "name": "python3"
  },
  "language_info": {
   "codemirror_mode": {
    "name": "ipython",
    "version": 3
   },
   "file_extension": ".py",
   "mimetype": "text/x-python",
   "name": "python",
   "nbconvert_exporter": "python",
   "pygments_lexer": "ipython3",
   "version": "3.6.1"
  }
 },
 "nbformat": 4,
 "nbformat_minor": 2
}
